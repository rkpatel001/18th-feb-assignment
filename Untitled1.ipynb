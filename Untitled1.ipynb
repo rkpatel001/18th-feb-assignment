{
 "cells": [
  {
   "cell_type": "code",
   "execution_count": 1,
   "id": "5fb47926-7715-4e94-8e58-87a630487ddf",
   "metadata": {},
   "outputs": [],
   "source": [
    "# Q1"
   ]
  },
  {
   "cell_type": "code",
   "execution_count": 2,
   "id": "db8ab88a-75ff-4702-aa75-13591472c84a",
   "metadata": {},
   "outputs": [
    {
     "data": {
      "text/plain": [
       "'APIs are mechanisms that enable two software components to communicate with each other using \\na set of definitions and protocols\\n\\ng pay is a best example for it g pay and our bank server communicate and connect with each other threw the api\\n\\nAPIs are used in web applications to connect user-facing front ends with critical back-end functionality and data.\\n'"
      ]
     },
     "execution_count": 2,
     "metadata": {},
     "output_type": "execute_result"
    }
   ],
   "source": [
    "'''APIs are mechanisms that enable two software components to communicate with each other using \n",
    "a set of definitions and protocols\n",
    "\n",
    "g pay is a best example for it g pay and our bank server communicate and connect with each other threw the api\n",
    "\n",
    "APIs are used in web applications to connect user-facing front ends with critical back-end functionality and data.\n",
    "'''\n"
   ]
  },
  {
   "cell_type": "code",
   "execution_count": 3,
   "id": "49301816-adb5-4ead-bb3b-fbb8238042af",
   "metadata": {},
   "outputs": [],
   "source": [
    "# Q2"
   ]
  },
  {
   "cell_type": "code",
   "execution_count": 4,
   "id": "eeb0bb5e-866b-4983-b0d7-84ab9a989ca5",
   "metadata": {},
   "outputs": [
    {
     "data": {
      "text/plain": [
       "'APIs allow for more efficient data distribution.\\n\\n Once the API is compromised, all other applications and systems become vulnerable.\\n'"
      ]
     },
     "execution_count": 4,
     "metadata": {},
     "output_type": "execute_result"
    }
   ],
   "source": [
    "'''APIs allow for more efficient data distribution.\n",
    "\n",
    " Once the API is compromised, all other applications and systems become vulnerable.\n",
    "'''"
   ]
  },
  {
   "cell_type": "code",
   "execution_count": 5,
   "id": "0095f41d-563d-4be4-9a7d-b9b192810288",
   "metadata": {},
   "outputs": [],
   "source": [
    "# Q3"
   ]
  },
  {
   "cell_type": "code",
   "execution_count": 6,
   "id": "1e13d194-1ca9-4d11-95d2-afe6ff075484",
   "metadata": {},
   "outputs": [
    {
     "data": {
      "text/plain": [
       "'Web api is application programming interface for web '"
      ]
     },
     "execution_count": 6,
     "metadata": {},
     "output_type": "execute_result"
    }
   ],
   "source": [
    "'''Web api is application programming interface for web '''"
   ]
  },
  {
   "cell_type": "code",
   "execution_count": 7,
   "id": "f31f5791-8803-404d-bb7a-2379ec259551",
   "metadata": {},
   "outputs": [],
   "source": [
    "# Q4"
   ]
  },
  {
   "cell_type": "code",
   "execution_count": 8,
   "id": "4e0d7a2e-b98c-4d2e-a602-04db0ad79fc0",
   "metadata": {},
   "outputs": [
    {
     "data": {
      "text/plain": [
       "'REST APIs access a resource for data , its less secure , its easy ,\\n   SOAP APIs perform an operation. , its more secure, its hard   '"
      ]
     },
     "execution_count": 8,
     "metadata": {},
     "output_type": "execute_result"
    }
   ],
   "source": [
    "'''REST APIs access a resource for data , its less secure , its easy, its use http ,\n",
    "   SOAP APIs perform an operation. , its more secure, its hard  , it use xml '''"
   ]
  },
  {
   "cell_type": "code",
   "execution_count": 9,
   "id": "7b7c6da9-9382-4665-b86c-59f3fb2734bc",
   "metadata": {},
   "outputs": [],
   "source": [
    "# Q5"
   ]
  },
  {
   "cell_type": "code",
   "execution_count": null,
   "id": "cf0032a0-831f-4dbc-b04c-4964f1040980",
   "metadata": {},
   "outputs": [],
   "source": [
    "same as Q4"
   ]
  }
 ],
 "metadata": {
  "kernelspec": {
   "display_name": "Python 3 (ipykernel)",
   "language": "python",
   "name": "python3"
  },
  "language_info": {
   "codemirror_mode": {
    "name": "ipython",
    "version": 3
   },
   "file_extension": ".py",
   "mimetype": "text/x-python",
   "name": "python",
   "nbconvert_exporter": "python",
   "pygments_lexer": "ipython3",
   "version": "3.10.8"
  }
 },
 "nbformat": 4,
 "nbformat_minor": 5
}
